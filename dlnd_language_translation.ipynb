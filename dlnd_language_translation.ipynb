{
 "cells": [
  {
   "cell_type": "markdown",
   "metadata": {
    "collapsed": true
   },
   "source": [
    "# Language Translation\n",
    "In this project, you’re going to take a peek into the realm of neural network machine translation.  You’ll be training a sequence to sequence model on a dataset of English and French sentences that can translate new sentences from English to French.\n",
    "## Get the Data\n",
    "Since translating the whole language of English to French will take lots of time to train, we have provided you with a small portion of the English corpus."
   ]
  },
  {
   "cell_type": "code",
   "execution_count": 1,
   "metadata": {
    "collapsed": true
   },
   "outputs": [],
   "source": [
    "\"\"\"\n",
    "DON'T MODIFY ANYTHING IN THIS CELL\n",
    "\"\"\"\n",
    "import helper\n",
    "import problem_unittests as tests\n",
    "\n",
    "source_path = 'data/small_vocab_en'\n",
    "target_path = 'data/small_vocab_fr'\n",
    "source_text = helper.load_data(source_path)\n",
    "target_text = helper.load_data(target_path)"
   ]
  },
  {
   "cell_type": "markdown",
   "metadata": {},
   "source": [
    "## Explore the Data\n",
    "Play around with view_sentence_range to view different parts of the data."
   ]
  },
  {
   "cell_type": "code",
   "execution_count": 2,
   "metadata": {},
   "outputs": [
    {
     "name": "stdout",
     "output_type": "stream",
     "text": [
      "Dataset Stats\n",
      "Roughly the number of unique words: 227\n",
      "Number of sentences: 137861\n",
      "Average number of words in a sentence: 13.225277634719028\n",
      "\n",
      "English sentences 100 to 110:\n",
      "new jersey is usually quiet during fall , but it is usually warm in april .\n",
      "california is never rainy during winter , and it is usually mild in summer .\n",
      "california is sometimes cold during winter , but it is sometimes chilly in autumn .\n",
      "she likes lemons , pears , and oranges.\n",
      "we like strawberries , bananas , and oranges .\n",
      "india is never snowy during september , but it is sometimes dry in spring .\n",
      "india is sometimes rainy during january , and it is pleasant in february .\n",
      "paris is never relaxing during march , but it is usually freezing in autumn .\n",
      "india is chilly during summer , and it is sometimes beautiful in september .\n",
      "she likes peaches , limes , and mangoes .\n",
      "\n",
      "French sentences 100 to 110:\n",
      "new jersey est généralement calme au cours de l' automne , mais il est généralement chaud en avril .\n",
      "california est jamais pluvieux pendant l' hiver , et il est généralement doux en été .\n",
      "california est parfois froid pendant l' hiver , mais il est parfois frisquet à l' automne .\n",
      "elle aime les citrons , les poires et les oranges .\n",
      "nous aimons les fraises , les bananes et les oranges .\n",
      "l' inde est jamais de neige au mois de septembre , mais il est parfois sec au printemps .\n",
      "l' inde est parfois pluvieux en janvier , et il est agréable en février .\n",
      "paris est jamais relaxant au mois de mars , mais il gèle habituellement à l' automne .\n",
      "l' inde est froid pendant l' été , et il est parfois beau en septembre .\n",
      "elle aime les pêches , citrons verts et les mangues .\n"
     ]
    }
   ],
   "source": [
    "view_sentence_range = (100, 110)\n",
    "\n",
    "\"\"\"\n",
    "DON'T MODIFY ANYTHING IN THIS CELL\n",
    "\"\"\"\n",
    "import numpy as np\n",
    "\n",
    "print('Dataset Stats')\n",
    "print('Roughly the number of unique words: {}'.format(len({word: None for word in source_text.split()})))\n",
    "\n",
    "sentences = source_text.split('\\n')\n",
    "word_counts = [len(sentence.split()) for sentence in sentences]\n",
    "print('Number of sentences: {}'.format(len(sentences)))\n",
    "print('Average number of words in a sentence: {}'.format(np.average(word_counts)))\n",
    "\n",
    "print()\n",
    "print('English sentences {} to {}:'.format(*view_sentence_range))\n",
    "print('\\n'.join(source_text.split('\\n')[view_sentence_range[0]:view_sentence_range[1]]))\n",
    "print()\n",
    "print('French sentences {} to {}:'.format(*view_sentence_range))\n",
    "print('\\n'.join(target_text.split('\\n')[view_sentence_range[0]:view_sentence_range[1]]))"
   ]
  },
  {
   "cell_type": "markdown",
   "metadata": {},
   "source": [
    "## Implement Preprocessing Function\n",
    "### Text to Word Ids\n",
    "As you did with other RNNs, you must turn the text into a number so the computer can understand it. In the function `text_to_ids()`, you'll turn `source_text` and `target_text` from words to ids.  However, you need to add the `<EOS>` word id at the end of `target_text`.  This will help the neural network predict when the sentence should end.\n",
    "\n",
    "You can get the `<EOS>` word id by doing:\n",
    "```python\n",
    "target_vocab_to_int['<EOS>']\n",
    "```\n",
    "You can get other word ids using `source_vocab_to_int` and `target_vocab_to_int`."
   ]
  },
  {
   "cell_type": "code",
   "execution_count": 3,
   "metadata": {},
   "outputs": [
    {
     "name": "stdout",
     "output_type": "stream",
     "text": [
      "Tests Passed\n"
     ]
    }
   ],
   "source": [
    "def text_to_ids(source_text, target_text, source_vocab_to_int, target_vocab_to_int):\n",
    "    \"\"\"\n",
    "    Convert source and target text to proper word ids\n",
    "    :param source_text: String that contains all the source text.\n",
    "    :param target_text: String that contains all the target text.\n",
    "    :param source_vocab_to_int: Dictionary to go from the source words to an id\n",
    "    :param target_vocab_to_int: Dictionary to go from the target words to an id\n",
    "    :return: A tuple of lists (source_id_text, target_id_text)\n",
    "    \"\"\"\n",
    "    # TODO: Implement Function\n",
    "\n",
    "    source_list = source_text.split('\\n') #list of sentences\n",
    "    list_of_source_list = [sentence.split() for sentence in source_list] #list of list of sentences tokenized\n",
    "    source_id_text = []\n",
    "    for sentence in list_of_source_list:\n",
    "        source_id_text.append([source_vocab_to_int[word] for word in sentence])\n",
    "\n",
    "    target_list = target_text.split('\\n') #list of sentences\n",
    "    list_of_target_list = [sentence.split() for sentence in target_list]\n",
    "    target_id_text = []\n",
    "    for sentence in list_of_target_list:\n",
    "        target_id_text.append([target_vocab_to_int[word] for word in sentence])\n",
    "        target_id_text[-1].append(target_vocab_to_int['<EOS>'])\n",
    "    return (source_id_text, target_id_text)\n",
    "\n",
    "\"\"\"\n",
    "DON'T MODIFY ANYTHING IN THIS CELL THAT IS BELOW THIS LINE\n",
    "\"\"\"\n",
    "tests.test_text_to_ids(text_to_ids)"
   ]
  },
  {
   "cell_type": "markdown",
   "metadata": {},
   "source": [
    "### Preprocess all the data and save it\n",
    "Running the code cell below will preprocess all the data and save it to file."
   ]
  },
  {
   "cell_type": "code",
   "execution_count": 4,
   "metadata": {
    "collapsed": true
   },
   "outputs": [],
   "source": [
    "\"\"\"\n",
    "DON'T MODIFY ANYTHING IN THIS CELL\n",
    "\"\"\"\n",
    "helper.preprocess_and_save_data(source_path, target_path, text_to_ids)"
   ]
  },
  {
   "cell_type": "markdown",
   "metadata": {},
   "source": [
    "# Check Point\n",
    "This is your first checkpoint. If you ever decide to come back to this notebook or have to restart the notebook, you can start from here. The preprocessed data has been saved to disk."
   ]
  },
  {
   "cell_type": "code",
   "execution_count": 1,
   "metadata": {
    "collapsed": true
   },
   "outputs": [],
   "source": [
    "\"\"\"\n",
    "DON'T MODIFY ANYTHING IN THIS CELL\n",
    "\"\"\"\n",
    "import numpy as np\n",
    "import helper\n",
    "import problem_unittests as tests\n",
    "\n",
    "(source_int_text, target_int_text), (source_vocab_to_int, target_vocab_to_int), _ = helper.load_preprocess()"
   ]
  },
  {
   "cell_type": "markdown",
   "metadata": {},
   "source": [
    "### Check the Version of TensorFlow and Access to GPU\n",
    "This will check to make sure you have the correct version of TensorFlow and access to a GPU"
   ]
  },
  {
   "cell_type": "code",
   "execution_count": 2,
   "metadata": {},
   "outputs": [
    {
     "name": "stdout",
     "output_type": "stream",
     "text": [
      "TensorFlow Version: 1.1.0\n",
      "Default GPU Device: /gpu:0\n"
     ]
    }
   ],
   "source": [
    "\"\"\"\n",
    "DON'T MODIFY ANYTHING IN THIS CELL\n",
    "\"\"\"\n",
    "from distutils.version import LooseVersion\n",
    "import warnings\n",
    "import tensorflow as tf\n",
    "from tensorflow.python.layers.core import Dense\n",
    "\n",
    "# Check TensorFlow Version\n",
    "assert LooseVersion(tf.__version__) >= LooseVersion('1.1'), 'Please use TensorFlow version 1.1 or newer'\n",
    "print('TensorFlow Version: {}'.format(tf.__version__))\n",
    "\n",
    "# Check for a GPU\n",
    "if not tf.test.gpu_device_name():\n",
    "    warnings.warn('No GPU found. Please use a GPU to train your neural network.')\n",
    "else:\n",
    "    print('Default GPU Device: {}'.format(tf.test.gpu_device_name()))"
   ]
  },
  {
   "cell_type": "markdown",
   "metadata": {},
   "source": [
    "## Build the Neural Network\n",
    "You'll build the components necessary to build a Sequence-to-Sequence model by implementing the following functions below:\n",
    "- `model_inputs`\n",
    "- `process_decoder_input`\n",
    "- `encoding_layer`\n",
    "- `decoding_layer_train`\n",
    "- `decoding_layer_infer`\n",
    "- `decoding_layer`\n",
    "- `seq2seq_model`\n",
    "\n",
    "### Input\n",
    "Implement the `model_inputs()` function to create TF Placeholders for the Neural Network. It should create the following placeholders:\n",
    "\n",
    "- Input text placeholder named \"input\" using the TF Placeholder name parameter with rank 2.\n",
    "- Targets placeholder with rank 2.\n",
    "- Learning rate placeholder with rank 0.\n",
    "- Keep probability placeholder named \"keep_prob\" using the TF Placeholder name parameter with rank 0.\n",
    "- Target sequence length placeholder named \"target_sequence_length\" with rank 1\n",
    "- Max target sequence length tensor named \"max_target_len\" getting its value from applying tf.reduce_max on the target_sequence_length placeholder. Rank 0.\n",
    "- Source sequence length placeholder named \"source_sequence_length\" with rank 1\n",
    "\n",
    "Return the placeholders in the following the tuple (input, targets, learning rate, keep probability, target sequence length, max target sequence length, source sequence length)"
   ]
  },
  {
   "cell_type": "code",
   "execution_count": 3,
   "metadata": {},
   "outputs": [
    {
     "name": "stdout",
     "output_type": "stream",
     "text": [
      "Tests Passed\n"
     ]
    }
   ],
   "source": [
    "def model_inputs():\n",
    "    \"\"\"\n",
    "    Create TF Placeholders for input, targets, learning rate, and lengths of source and target sequences.\n",
    "    :return: Tuple (input, targets, learning rate, keep probability, target sequence length,\n",
    "    max target sequence length, source sequence length)\n",
    "    \"\"\"\n",
    "    # TODO: Implement Function\n",
    "    input_ = tf.placeholder(tf.int32, [None,None],name='input')\n",
    "    targets_ = tf.placeholder(tf.int32, [None,None])\n",
    "    learning_rate_ = tf.placeholder(tf.float32)\n",
    "    keep_prob_ = tf.placeholder(tf.float32,name='keep_prob')\n",
    "    target_seq_ = tf.placeholder(tf.int32, [None],name='target_sequence_length')\n",
    "    max_target_seq_ = tf.reduce_max(target_seq_)\n",
    "    source_seq_ = tf.placeholder(tf.int32, [None],name='source_sequence_length')\n",
    "    return (input_, targets_, learning_rate_, keep_prob_, target_seq_,max_target_seq_,source_seq_)\n",
    "\n",
    "\"\"\"\n",
    "DON'T MODIFY ANYTHING IN THIS CELL THAT IS BELOW THIS LINE\n",
    "\"\"\"\n",
    "tests.test_model_inputs(model_inputs)"
   ]
  },
  {
   "cell_type": "markdown",
   "metadata": {},
   "source": [
    "### Process Decoder Input\n",
    "Implement `process_decoder_input` by removing the last word id from each batch in `target_data` and concat the GO ID to the begining of each batch."
   ]
  },
  {
   "cell_type": "code",
   "execution_count": 4,
   "metadata": {
    "scrolled": true
   },
   "outputs": [
    {
     "name": "stdout",
     "output_type": "stream",
     "text": [
      "Tests Passed\n"
     ]
    }
   ],
   "source": [
    "def process_decoder_input(target_data, target_vocab_to_int, batch_size):\n",
    "    \"\"\"\n",
    "    Preprocess target data for encoding\n",
    "    :param target_data: Target Placehoder\n",
    "    :param target_vocab_to_int: Dictionary to go from the target words to an id\n",
    "    :param batch_size: Batch Size\n",
    "    :return: Preprocessed target data\n",
    "    \"\"\"\n",
    "    # TODO: Implement Function\n",
    "\n",
    "    ending = tf.strided_slice(target_data, [0, 0], [batch_size, -1], [1, 1])\n",
    "    dec_input = tf.concat([tf.fill([batch_size, 1], target_vocab_to_int['<GO>']), ending], 1)\n",
    "\n",
    "    return dec_input\n",
    "\n",
    "\"\"\"\n",
    "DON'T MODIFY ANYTHING IN THIS CELL THAT IS BELOW THIS LINE\n",
    "\"\"\"\n",
    "tests.test_process_encoding_input(process_decoder_input)"
   ]
  },
  {
   "cell_type": "markdown",
   "metadata": {},
   "source": [
    "### Encoding\n",
    "Implement `encoding_layer()` to create a Encoder RNN layer:\n",
    " * Embed the encoder input using [`tf.contrib.layers.embed_sequence`](https://www.tensorflow.org/api_docs/python/tf/contrib/layers/embed_sequence)\n",
    " * Construct a [stacked](https://github.com/tensorflow/tensorflow/blob/6947f65a374ebf29e74bb71e36fd82760056d82c/tensorflow/docs_src/tutorials/recurrent.md#stacking-multiple-lstms) [`tf.contrib.rnn.LSTMCell`](https://www.tensorflow.org/api_docs/python/tf/contrib/rnn/LSTMCell) wrapped in a [`tf.contrib.rnn.DropoutWrapper`](https://www.tensorflow.org/api_docs/python/tf/contrib/rnn/DropoutWrapper)\n",
    " * Pass cell and embedded input to [`tf.nn.dynamic_rnn()`](https://www.tensorflow.org/api_docs/python/tf/nn/dynamic_rnn)"
   ]
  },
  {
   "cell_type": "code",
   "execution_count": 5,
   "metadata": {
    "scrolled": false
   },
   "outputs": [
    {
     "name": "stdout",
     "output_type": "stream",
     "text": [
      "Tests Passed\n"
     ]
    }
   ],
   "source": [
    "from imp import reload\n",
    "reload(tests)\n",
    "\n",
    "def encoding_layer(rnn_inputs, rnn_size, num_layers, keep_prob, \n",
    "                   source_sequence_length, source_vocab_size, \n",
    "                   encoding_embedding_size):\n",
    "    \"\"\"\n",
    "    Create encoding layer\n",
    "    :param rnn_inputs: Inputs for the RNN\n",
    "    :param rnn_size: RNN Size\n",
    "    :param num_layers: Number of layers\n",
    "    :param keep_prob: Dropout keep probability\n",
    "    :param source_sequence_length: a list of the lengths of each sequence in the batch\n",
    "    :param source_vocab_size: vocabulary size of source data\n",
    "    :param encoding_embedding_size: embedding size of source data\n",
    "    :return: tuple (RNN output, RNN state)\n",
    "    \"\"\"\n",
    "    # TODO: Implement Function\n",
    "    embed_input = tf.contrib.layers.embed_sequence(rnn_inputs,source_vocab_size,encoding_embedding_size)\n",
    "    \n",
    "    cell = tf.contrib.rnn.MultiRNNCell([tf.contrib.rnn.DropoutWrapper(tf.contrib.rnn.BasicLSTMCell(rnn_size),output_keep_prob=keep_prob) for _ in range(num_layers)])\n",
    "    output, state = tf.nn.dynamic_rnn(cell,embed_input,sequence_length=source_sequence_length,dtype=tf.float32)\n",
    "\n",
    "    return output, state\n",
    "\n",
    "\"\"\"\n",
    "DON'T MODIFY ANYTHING IN THIS CELL THAT IS BELOW THIS LINE\n",
    "\"\"\"\n",
    "tests.test_encoding_layer(encoding_layer)"
   ]
  },
  {
   "cell_type": "markdown",
   "metadata": {},
   "source": [
    "### Decoding - Training\n",
    "Create a training decoding layer:\n",
    "* Create a [`tf.contrib.seq2seq.TrainingHelper`](https://www.tensorflow.org/api_docs/python/tf/contrib/seq2seq/TrainingHelper) \n",
    "* Create a [`tf.contrib.seq2seq.BasicDecoder`](https://www.tensorflow.org/api_docs/python/tf/contrib/seq2seq/BasicDecoder)\n",
    "* Obtain the decoder outputs from [`tf.contrib.seq2seq.dynamic_decode`](https://www.tensorflow.org/api_docs/python/tf/contrib/seq2seq/dynamic_decode)"
   ]
  },
  {
   "cell_type": "code",
   "execution_count": 9,
   "metadata": {},
   "outputs": [
    {
     "name": "stdout",
     "output_type": "stream",
     "text": [
      "Tests Passed\n"
     ]
    }
   ],
   "source": [
    "def decoding_layer_train(encoder_state, dec_cell, dec_embed_input, \n",
    "                         target_sequence_length, max_summary_length, \n",
    "                         output_layer, keep_prob):\n",
    "    \"\"\"\n",
    "    Create a decoding layer for training\n",
    "    :param encoder_state: Encoder State\n",
    "    :param dec_cell: Decoder RNN Cell\n",
    "    :param dec_embed_input: Decoder embedded input\n",
    "    :param target_sequence_length: The lengths of each sequence in the target batch\n",
    "    :param max_summary_length: The length of the longest sequence in the batch\n",
    "    :param output_layer: Function to apply the output layer\n",
    "    :param keep_prob: Dropout keep probability\n",
    "    :return: BasicDecoderOutput containing training logits and sample_id\n",
    "    \"\"\"\n",
    "    # TODO: Implement Function\n",
    "    training_helper = tf.contrib.seq2seq.TrainingHelper(dec_embed_input, target_sequence_length)\n",
    "    training_decoder = tf.contrib.seq2seq.BasicDecoder(dec_cell, training_helper, encoder_state, output_layer)\n",
    "    training_decoder_output,_ = tf.contrib.seq2seq.dynamic_decode(training_decoder, impute_finished=True, maximum_iterations=max_summary_length)\n",
    "    \n",
    "    return training_decoder_output\n",
    "\n",
    "\n",
    "\"\"\"\n",
    "DON'T MODIFY ANYTHING IN THIS CELL THAT IS BELOW THIS LINE\n",
    "\"\"\"\n",
    "tests.test_decoding_layer_train(decoding_layer_train)"
   ]
  },
  {
   "cell_type": "markdown",
   "metadata": {},
   "source": [
    "### Decoding - Inference\n",
    "Create inference decoder:\n",
    "* Create a [`tf.contrib.seq2seq.GreedyEmbeddingHelper`](https://www.tensorflow.org/api_docs/python/tf/contrib/seq2seq/GreedyEmbeddingHelper)\n",
    "* Create a [`tf.contrib.seq2seq.BasicDecoder`](https://www.tensorflow.org/api_docs/python/tf/contrib/seq2seq/BasicDecoder)\n",
    "* Obtain the decoder outputs from [`tf.contrib.seq2seq.dynamic_decode`](https://www.tensorflow.org/api_docs/python/tf/contrib/seq2seq/dynamic_decode)"
   ]
  },
  {
   "cell_type": "code",
   "execution_count": 10,
   "metadata": {
    "scrolled": true
   },
   "outputs": [
    {
     "name": "stdout",
     "output_type": "stream",
     "text": [
      "Tests Passed\n"
     ]
    }
   ],
   "source": [
    "def decoding_layer_infer(encoder_state, dec_cell, dec_embeddings, start_of_sequence_id,\n",
    "                         end_of_sequence_id, max_target_sequence_length,\n",
    "                         vocab_size, output_layer, batch_size, keep_prob):\n",
    "    \"\"\"\n",
    "    Create a decoding layer for inference\n",
    "    :param encoder_state: Encoder state\n",
    "    :param dec_cell: Decoder RNN Cell\n",
    "    :param dec_embeddings: Decoder embeddings\n",
    "    :param start_of_sequence_id: GO ID\n",
    "    :param end_of_sequence_id: EOS Id\n",
    "    :param max_target_sequence_length: Maximum length of target sequences\n",
    "    :param vocab_size: Size of decoder/target vocabulary\n",
    "    :param decoding_scope: TenorFlow Variable Scope for decoding\n",
    "    :param output_layer: Function to apply the output layer\n",
    "    :param batch_size: Batch size\n",
    "    :param keep_prob: Dropout keep probability\n",
    "    :return: BasicDecoderOutput containing inference logits and sample_id\n",
    "    \"\"\"\n",
    "    # TODO: Implement Function\n",
    "    start_tokens = tf.tile(tf.constant([start_of_sequence_id], dtype=tf.int32), [batch_size], name='start_tokens')\n",
    "    greedy_helper = tf.contrib.seq2seq.GreedyEmbeddingHelper(dec_embeddings, start_tokens, end_of_sequence_id)\n",
    "    basic_decoder = tf.contrib.seq2seq.BasicDecoder(dec_cell, greedy_helper, encoder_state, output_layer)\n",
    "    out, state = tf.contrib.seq2seq.dynamic_decode(basic_decoder,impute_finished=True, maximum_iterations=max_target_sequence_length)\n",
    "    return out\n",
    "\n",
    "\"\"\"\n",
    "DON'T MODIFY ANYTHING IN THIS CELL THAT IS BELOW THIS LINE\n",
    "\"\"\"\n",
    "tests.test_decoding_layer_infer(decoding_layer_infer)"
   ]
  },
  {
   "cell_type": "markdown",
   "metadata": {},
   "source": [
    "### Build the Decoding Layer\n",
    "Implement `decoding_layer()` to create a Decoder RNN layer.\n",
    "\n",
    "* Embed the target sequences\n",
    "* Construct the decoder LSTM cell (just like you constructed the encoder cell above)\n",
    "* Create an output layer to map the outputs of the decoder to the elements of our vocabulary\n",
    "* Use the your `decoding_layer_train(encoder_state, dec_cell, dec_embed_input, target_sequence_length, max_target_sequence_length, output_layer, keep_prob)` function to get the training logits.\n",
    "* Use your `decoding_layer_infer(encoder_state, dec_cell, dec_embeddings, start_of_sequence_id, end_of_sequence_id, max_target_sequence_length, vocab_size, output_layer, batch_size, keep_prob)` function to get the inference logits.\n",
    "\n",
    "Note: You'll need to use [tf.variable_scope](https://www.tensorflow.org/api_docs/python/tf/variable_scope) to share variables between training and inference."
   ]
  },
  {
   "cell_type": "code",
   "execution_count": 11,
   "metadata": {},
   "outputs": [
    {
     "name": "stdout",
     "output_type": "stream",
     "text": [
      "Tests Passed\n"
     ]
    }
   ],
   "source": [
    "def decoding_layer(dec_input, encoder_state,\n",
    "                   target_sequence_length, max_target_sequence_length,\n",
    "                   rnn_size,\n",
    "                   num_layers, target_vocab_to_int, target_vocab_size,\n",
    "                   batch_size, keep_prob, decoding_embedding_size):\n",
    "    \"\"\"\n",
    "    Create decoding layer\n",
    "    :param dec_input: Decoder input\n",
    "    :param encoder_state: Encoder state\n",
    "    :param target_sequence_length: The lengths of each sequence in the target batch\n",
    "    :param max_target_sequence_length: Maximum length of target sequences\n",
    "    :param rnn_size: RNN Size\n",
    "    :param num_layers: Number of layers\n",
    "    :param target_vocab_to_int: Dictionary to go from the target words to an id\n",
    "    :param target_vocab_size: Size of target vocabulary\n",
    "    :param batch_size: The size of the batch\n",
    "    :param keep_prob: Dropout keep probability\n",
    "    :param decoding_embedding_size: Decoding embedding size\n",
    "    :return: Tuple of (Training BasicDecoderOutput, Inference BasicDecoderOutput)\n",
    "    \"\"\"\n",
    "    # TODO: Implement Function\n",
    "    dec_embeddings = tf.Variable(tf.random_uniform([target_vocab_size, decoding_embedding_size]))\n",
    "    dec_embed_input = tf.nn.embedding_lookup(dec_embeddings, dec_input)\n",
    "    def make_cell(rnn_size):\n",
    "        dec_cell = tf.contrib.rnn.LSTMCell(rnn_size,\n",
    "                                       initializer=tf.random_uniform_initializer(-0.1, 0.1, seed=2))\n",
    "        return dec_cell\n",
    "    dec_cell = tf.contrib.rnn.MultiRNNCell([make_cell(rnn_size) for _ in range(num_layers)])\n",
    " \n",
    "    output_layer = Dense(target_vocab_size,\n",
    "                     kernel_initializer = tf.truncated_normal_initializer(mean = 0.0, stddev=0.1))\n",
    "\n",
    "    with tf.variable_scope(\"decode\") as decoding_scope:\n",
    "\n",
    "        training_decoder_output = decoding_layer_train(encoder_state, dec_cell, dec_embed_input, \n",
    "                     target_sequence_length, max_target_sequence_length, \n",
    "                     output_layer, keep_prob)\n",
    "\n",
    "    with tf.variable_scope(\"decode\", reuse=True) as decoding_scope:\n",
    "        start_of_sequence_id = target_vocab_to_int['<GO>']\n",
    "        end_of_sequence_id = target_vocab_to_int['<EOS>']\n",
    "\n",
    "        inference_decoder_output = decoding_layer_infer(encoder_state, dec_cell, dec_embeddings, start_of_sequence_id,\n",
    "                     end_of_sequence_id, max_target_sequence_length,\n",
    "                     target_vocab_size, output_layer, batch_size, keep_prob)\n",
    "\n",
    "    return training_decoder_output, inference_decoder_output\n",
    "\"\"\"\n",
    "DON'T MODIFY ANYTHING IN THIS CELL THAT IS BELOW THIS LINE\n",
    "\"\"\"\n",
    "tests.test_decoding_layer(decoding_layer)"
   ]
  },
  {
   "cell_type": "markdown",
   "metadata": {},
   "source": [
    "### Build the Neural Network\n",
    "Apply the functions you implemented above to:\n",
    "\n",
    "- Encode the input using your `encoding_layer(rnn_inputs, rnn_size, num_layers, keep_prob,  source_sequence_length, source_vocab_size, encoding_embedding_size)`.\n",
    "- Process target data using your `process_decoder_input(target_data, target_vocab_to_int, batch_size)` function.\n",
    "- Decode the encoded input using your `decoding_layer(dec_input, enc_state, target_sequence_length, max_target_sentence_length, rnn_size, num_layers, target_vocab_to_int, target_vocab_size, batch_size, keep_prob, dec_embedding_size)` function."
   ]
  },
  {
   "cell_type": "code",
   "execution_count": 15,
   "metadata": {},
   "outputs": [
    {
     "name": "stdout",
     "output_type": "stream",
     "text": [
      "Tests Passed\n"
     ]
    }
   ],
   "source": [
    "def seq2seq_model(input_data, target_data, keep_prob, batch_size,\n",
    "                  source_sequence_length, target_sequence_length,\n",
    "                  max_target_sentence_length,\n",
    "                  source_vocab_size, target_vocab_size,\n",
    "                  enc_embedding_size, dec_embedding_size,\n",
    "                  rnn_size, num_layers, target_vocab_to_int):\n",
    "    \"\"\"\n",
    "    Build the Sequence-to-Sequence part of the neural network\n",
    "    :param input_data: Input placeholder\n",
    "    :param target_data: Target placeholder\n",
    "    :param keep_prob: Dropout keep probability placeholder\n",
    "    :param batch_size: Batch Size\n",
    "    :param source_sequence_length: Sequence Lengths of source sequences in the batch\n",
    "    :param target_sequence_length: Sequence Lengths of target sequences in the batch\n",
    "    :param source_vocab_size: Source vocabulary size\n",
    "    :param target_vocab_size: Target vocabulary size\n",
    "    :param enc_embedding_size: Decoder embedding size\n",
    "    :param dec_embedding_size: Encoder embedding size\n",
    "    :param rnn_size: RNN Size\n",
    "    :param num_layers: Number of layers\n",
    "    :param target_vocab_to_int: Dictionary to go from the target words to an id\n",
    "    :return: Tuple of (Training BasicDecoderOutput, Inference BasicDecoderOutput)\n",
    "    \"\"\"\n",
    "    # TODO: Implement Function\n",
    "    enc_input, enc_state = encoding_layer(input_data, rnn_size, num_layers, keep_prob, source_sequence_length, \\\n",
    "                                          source_vocab_size, enc_embedding_size)\n",
    "    dec_input = process_decoder_input(target_data, target_vocab_to_int, batch_size)\n",
    "    \n",
    "    BasicDecoderOutput, Inference BasicDecoderOutput = decoding_layer(dec_input, enc_state, target_sequence_length, max_target_sentence_length, \\\n",
    "                                                                      rnn_size, num_layers, target_vocab_to_int, target_vocab_size, \\\n",
    "                                                                      batch_size, keep_prob, dec_embedding_size)\n",
    "    return (BasicDecoderOutput, Inference BasicDecoderOutput)\n",
    "\n",
    "\n",
    "\"\"\"\n",
    "DON'T MODIFY ANYTHING IN THIS CELL THAT IS BELOW THIS LINE\n",
    "\"\"\"\n",
    "tests.test_seq2seq_model(seq2seq_model)"
   ]
  },
  {
   "cell_type": "markdown",
   "metadata": {},
   "source": [
    "## Neural Network Training\n",
    "### Hyperparameters\n",
    "Tune the following parameters:\n",
    "\n",
    "- Set `epochs` to the number of epochs.\n",
    "- Set `batch_size` to the batch size.\n",
    "- Set `rnn_size` to the size of the RNNs.\n",
    "- Set `num_layers` to the number of layers.\n",
    "- Set `encoding_embedding_size` to the size of the embedding for the encoder.\n",
    "- Set `decoding_embedding_size` to the size of the embedding for the decoder.\n",
    "- Set `learning_rate` to the learning rate.\n",
    "- Set `keep_probability` to the Dropout keep probability\n",
    "- Set `display_step` to state how many steps between each debug output statement"
   ]
  },
  {
   "cell_type": "code",
   "execution_count": 16,
   "metadata": {
    "collapsed": true
   },
   "outputs": [],
   "source": [
    "# Number of Epochs\n",
    "epochs = 15\n",
    "# Batch Size\n",
    "batch_size = 256\n",
    "# RNN Size\n",
    "rnn_size = 256\n",
    "# Number of Layers\n",
    "num_layers = 3\n",
    "# Embedding Size\n",
    "encoding_embedding_size = 150\n",
    "decoding_embedding_size = 150\n",
    "# Learning Rate\n",
    "learning_rate = 0.001\n",
    "# Dropout Keep Probability\n",
    "keep_probability = 0.75\n",
    "display_step = 50"
   ]
  },
  {
   "cell_type": "markdown",
   "metadata": {},
   "source": [
    "### Build the Graph\n",
    "Build the graph using the neural network you implemented."
   ]
  },
  {
   "cell_type": "code",
   "execution_count": 17,
   "metadata": {
    "collapsed": true
   },
   "outputs": [],
   "source": [
    "\"\"\"\n",
    "DON'T MODIFY ANYTHING IN THIS CELL\n",
    "\"\"\"\n",
    "save_path = 'checkpoints/dev'\n",
    "(source_int_text, target_int_text), (source_vocab_to_int, target_vocab_to_int), _ = helper.load_preprocess()\n",
    "max_target_sentence_length = max([len(sentence) for sentence in source_int_text])\n",
    "\n",
    "train_graph = tf.Graph()\n",
    "with train_graph.as_default():\n",
    "    input_data, targets, lr, keep_prob, target_sequence_length, max_target_sequence_length, source_sequence_length = model_inputs()\n",
    "\n",
    "\n",
    "    input_shape = tf.shape(input_data)\n",
    "\n",
    "    train_logits, inference_logits = seq2seq_model(tf.reverse(input_data, [-1]),\n",
    "                                                   targets,\n",
    "                                                   keep_prob,\n",
    "                                                   batch_size,\n",
    "                                                   source_sequence_length,\n",
    "                                                   target_sequence_length,\n",
    "                                                   max_target_sequence_length,\n",
    "                                                   len(source_vocab_to_int),\n",
    "                                                   len(target_vocab_to_int),\n",
    "                                                   encoding_embedding_size,\n",
    "                                                   decoding_embedding_size,\n",
    "                                                   rnn_size,\n",
    "                                                   num_layers,\n",
    "                                                   target_vocab_to_int)\n",
    "\n",
    "\n",
    "    training_logits = tf.identity(train_logits.rnn_output, name='logits')\n",
    "    inference_logits = tf.identity(inference_logits.sample_id, name='predictions')\n",
    "\n",
    "    masks = tf.sequence_mask(target_sequence_length, max_target_sequence_length, dtype=tf.float32, name='masks')\n",
    "\n",
    "    with tf.name_scope(\"optimization\"):\n",
    "        # Loss function\n",
    "        cost = tf.contrib.seq2seq.sequence_loss(\n",
    "            training_logits,\n",
    "            targets,\n",
    "            masks)\n",
    "\n",
    "        # Optimizer\n",
    "        optimizer = tf.train.AdamOptimizer(lr)\n",
    "\n",
    "        # Gradient Clipping\n",
    "        gradients = optimizer.compute_gradients(cost)\n",
    "        capped_gradients = [(tf.clip_by_value(grad, -1., 1.), var) for grad, var in gradients if grad is not None]\n",
    "        train_op = optimizer.apply_gradients(capped_gradients)\n"
   ]
  },
  {
   "cell_type": "markdown",
   "metadata": {},
   "source": [
    "Batch and pad the source and target sequences"
   ]
  },
  {
   "cell_type": "code",
   "execution_count": 18,
   "metadata": {
    "collapsed": true
   },
   "outputs": [],
   "source": [
    "\"\"\"\n",
    "DON'T MODIFY ANYTHING IN THIS CELL\n",
    "\"\"\"\n",
    "def pad_sentence_batch(sentence_batch, pad_int):\n",
    "    \"\"\"Pad sentences with <PAD> so that each sentence of a batch has the same length\"\"\"\n",
    "    max_sentence = max([len(sentence) for sentence in sentence_batch])\n",
    "    return [sentence + [pad_int] * (max_sentence - len(sentence)) for sentence in sentence_batch]\n",
    "\n",
    "\n",
    "def get_batches(sources, targets, batch_size, source_pad_int, target_pad_int):\n",
    "    \"\"\"Batch targets, sources, and the lengths of their sentences together\"\"\"\n",
    "    for batch_i in range(0, len(sources)//batch_size):\n",
    "        start_i = batch_i * batch_size\n",
    "\n",
    "        # Slice the right amount for the batch\n",
    "        sources_batch = sources[start_i:start_i + batch_size]\n",
    "        targets_batch = targets[start_i:start_i + batch_size]\n",
    "\n",
    "        # Pad\n",
    "        pad_sources_batch = np.array(pad_sentence_batch(sources_batch, source_pad_int))\n",
    "        pad_targets_batch = np.array(pad_sentence_batch(targets_batch, target_pad_int))\n",
    "\n",
    "        # Need the lengths for the _lengths parameters\n",
    "        pad_targets_lengths = []\n",
    "        for target in pad_targets_batch:\n",
    "            pad_targets_lengths.append(len(target))\n",
    "\n",
    "        pad_source_lengths = []\n",
    "        for source in pad_sources_batch:\n",
    "            pad_source_lengths.append(len(source))\n",
    "\n",
    "        yield pad_sources_batch, pad_targets_batch, pad_source_lengths, pad_targets_lengths\n"
   ]
  },
  {
   "cell_type": "markdown",
   "metadata": {},
   "source": [
    "### Train\n",
    "Train the neural network on the preprocessed data. If you have a hard time getting a good loss, check the forms to see if anyone is having the same problem."
   ]
  },
  {
   "cell_type": "code",
   "execution_count": 19,
   "metadata": {
    "scrolled": true
   },
   "outputs": [
    {
     "name": "stdout",
     "output_type": "stream",
     "text": [
      "Epoch   0 Batch   50/538 - Train Accuracy: 0.4379, Validation Accuracy: 0.4735, Loss: 2.3096\n",
      "Epoch   0 Batch  100/538 - Train Accuracy: 0.4813, Validation Accuracy: 0.5281, Loss: 1.8449\n",
      "Epoch   0 Batch  150/538 - Train Accuracy: 0.4656, Validation Accuracy: 0.5105, Loss: 1.4298\n",
      "Epoch   0 Batch  200/538 - Train Accuracy: 0.4852, Validation Accuracy: 0.5227, Loss: 1.2462\n",
      "Epoch   0 Batch  250/538 - Train Accuracy: 0.5072, Validation Accuracy: 0.5456, Loss: 1.0311\n",
      "Epoch   0 Batch  300/538 - Train Accuracy: 0.5833, Validation Accuracy: 0.5719, Loss: 0.8558\n",
      "Epoch   0 Batch  350/538 - Train Accuracy: 0.5692, Validation Accuracy: 0.5724, Loss: 0.8028\n",
      "Epoch   0 Batch  400/538 - Train Accuracy: 0.5830, Validation Accuracy: 0.5934, Loss: 0.7232\n",
      "Epoch   0 Batch  450/538 - Train Accuracy: 0.6220, Validation Accuracy: 0.6156, Loss: 0.6846\n",
      "Epoch   0 Batch  500/538 - Train Accuracy: 0.6396, Validation Accuracy: 0.6124, Loss: 0.5726\n",
      "Epoch   1 Batch   50/538 - Train Accuracy: 0.6326, Validation Accuracy: 0.6460, Loss: 0.5704\n",
      "Epoch   1 Batch  100/538 - Train Accuracy: 0.6414, Validation Accuracy: 0.6525, Loss: 0.5066\n",
      "Epoch   1 Batch  150/538 - Train Accuracy: 0.6666, Validation Accuracy: 0.6607, Loss: 0.4749\n",
      "Epoch   1 Batch  200/538 - Train Accuracy: 0.6789, Validation Accuracy: 0.6737, Loss: 0.4357\n",
      "Epoch   1 Batch  250/538 - Train Accuracy: 0.6777, Validation Accuracy: 0.6779, Loss: 0.4258\n",
      "Epoch   1 Batch  300/538 - Train Accuracy: 0.6910, Validation Accuracy: 0.6955, Loss: 0.3884\n",
      "Epoch   1 Batch  350/538 - Train Accuracy: 0.7507, Validation Accuracy: 0.7406, Loss: 0.3572\n",
      "Epoch   1 Batch  400/538 - Train Accuracy: 0.7465, Validation Accuracy: 0.7623, Loss: 0.3248\n",
      "Epoch   1 Batch  450/538 - Train Accuracy: 0.7733, Validation Accuracy: 0.7825, Loss: 0.3054\n",
      "Epoch   1 Batch  500/538 - Train Accuracy: 0.8303, Validation Accuracy: 0.8263, Loss: 0.2401\n",
      "Epoch   2 Batch   50/538 - Train Accuracy: 0.8498, Validation Accuracy: 0.8350, Loss: 0.2173\n",
      "Epoch   2 Batch  100/538 - Train Accuracy: 0.8791, Validation Accuracy: 0.8423, Loss: 0.1801\n",
      "Epoch   2 Batch  150/538 - Train Accuracy: 0.8594, Validation Accuracy: 0.8784, Loss: 0.1556\n",
      "Epoch   2 Batch  200/538 - Train Accuracy: 0.8713, Validation Accuracy: 0.8832, Loss: 0.1350\n",
      "Epoch   2 Batch  250/538 - Train Accuracy: 0.8727, Validation Accuracy: 0.8739, Loss: 0.1325\n",
      "Epoch   2 Batch  300/538 - Train Accuracy: 0.8912, Validation Accuracy: 0.8888, Loss: 0.1110\n",
      "Epoch   2 Batch  350/538 - Train Accuracy: 0.9018, Validation Accuracy: 0.8919, Loss: 0.1056\n",
      "Epoch   2 Batch  400/538 - Train Accuracy: 0.9066, Validation Accuracy: 0.9197, Loss: 0.0961\n",
      "Epoch   2 Batch  450/538 - Train Accuracy: 0.9009, Validation Accuracy: 0.9183, Loss: 0.0984\n",
      "Epoch   2 Batch  500/538 - Train Accuracy: 0.9205, Validation Accuracy: 0.9238, Loss: 0.0566\n",
      "Epoch   3 Batch   50/538 - Train Accuracy: 0.9168, Validation Accuracy: 0.9221, Loss: 0.0644\n",
      "Epoch   3 Batch  100/538 - Train Accuracy: 0.9254, Validation Accuracy: 0.9100, Loss: 0.0549\n",
      "Epoch   3 Batch  150/538 - Train Accuracy: 0.9418, Validation Accuracy: 0.9128, Loss: 0.0517\n",
      "Epoch   3 Batch  200/538 - Train Accuracy: 0.9596, Validation Accuracy: 0.9320, Loss: 0.0469\n",
      "Epoch   3 Batch  250/538 - Train Accuracy: 0.9369, Validation Accuracy: 0.9249, Loss: 0.0533\n",
      "Epoch   3 Batch  300/538 - Train Accuracy: 0.9399, Validation Accuracy: 0.9338, Loss: 0.0483\n",
      "Epoch   3 Batch  350/538 - Train Accuracy: 0.9394, Validation Accuracy: 0.9311, Loss: 0.0514\n",
      "Epoch   3 Batch  400/538 - Train Accuracy: 0.9507, Validation Accuracy: 0.9354, Loss: 0.0449\n",
      "Epoch   3 Batch  450/538 - Train Accuracy: 0.9198, Validation Accuracy: 0.9363, Loss: 0.0545\n",
      "Epoch   3 Batch  500/538 - Train Accuracy: 0.9616, Validation Accuracy: 0.9295, Loss: 0.0299\n",
      "Epoch   4 Batch   50/538 - Train Accuracy: 0.9551, Validation Accuracy: 0.9286, Loss: 0.0355\n",
      "Epoch   4 Batch  100/538 - Train Accuracy: 0.9523, Validation Accuracy: 0.9476, Loss: 0.0315\n",
      "Epoch   4 Batch  150/538 - Train Accuracy: 0.9588, Validation Accuracy: 0.9409, Loss: 0.0309\n",
      "Epoch   4 Batch  200/538 - Train Accuracy: 0.9729, Validation Accuracy: 0.9490, Loss: 0.0266\n",
      "Epoch   4 Batch  250/538 - Train Accuracy: 0.9594, Validation Accuracy: 0.9405, Loss: 0.0366\n",
      "Epoch   4 Batch  300/538 - Train Accuracy: 0.9503, Validation Accuracy: 0.9533, Loss: 0.0312\n",
      "Epoch   4 Batch  350/538 - Train Accuracy: 0.9608, Validation Accuracy: 0.9498, Loss: 0.0331\n",
      "Epoch   4 Batch  400/538 - Train Accuracy: 0.9624, Validation Accuracy: 0.9611, Loss: 0.0309\n",
      "Epoch   4 Batch  450/538 - Train Accuracy: 0.9284, Validation Accuracy: 0.9526, Loss: 0.0398\n",
      "Epoch   4 Batch  500/538 - Train Accuracy: 0.9723, Validation Accuracy: 0.9426, Loss: 0.0203\n",
      "Epoch   5 Batch   50/538 - Train Accuracy: 0.9684, Validation Accuracy: 0.9471, Loss: 0.0272\n",
      "Epoch   5 Batch  100/538 - Train Accuracy: 0.9734, Validation Accuracy: 0.9528, Loss: 0.0213\n",
      "Epoch   5 Batch  150/538 - Train Accuracy: 0.9662, Validation Accuracy: 0.9556, Loss: 0.0237\n",
      "Epoch   5 Batch  200/538 - Train Accuracy: 0.9721, Validation Accuracy: 0.9519, Loss: 0.0175\n",
      "Epoch   5 Batch  250/538 - Train Accuracy: 0.9629, Validation Accuracy: 0.9490, Loss: 0.0287\n",
      "Epoch   5 Batch  300/538 - Train Accuracy: 0.9674, Validation Accuracy: 0.9554, Loss: 0.0230\n",
      "Epoch   5 Batch  350/538 - Train Accuracy: 0.9721, Validation Accuracy: 0.9503, Loss: 0.0255\n",
      "Epoch   5 Batch  400/538 - Train Accuracy: 0.9725, Validation Accuracy: 0.9631, Loss: 0.0221\n",
      "Epoch   5 Batch  450/538 - Train Accuracy: 0.9501, Validation Accuracy: 0.9595, Loss: 0.0327\n",
      "Epoch   5 Batch  500/538 - Train Accuracy: 0.9805, Validation Accuracy: 0.9517, Loss: 0.0146\n",
      "Epoch   6 Batch   50/538 - Train Accuracy: 0.9689, Validation Accuracy: 0.9599, Loss: 0.0199\n",
      "Epoch   6 Batch  100/538 - Train Accuracy: 0.9893, Validation Accuracy: 0.9577, Loss: 0.0146\n",
      "Epoch   6 Batch  150/538 - Train Accuracy: 0.9734, Validation Accuracy: 0.9620, Loss: 0.0194\n",
      "Epoch   6 Batch  200/538 - Train Accuracy: 0.9758, Validation Accuracy: 0.9531, Loss: 0.0150\n",
      "Epoch   6 Batch  250/538 - Train Accuracy: 0.9779, Validation Accuracy: 0.9592, Loss: 0.0217\n",
      "Epoch   6 Batch  300/538 - Train Accuracy: 0.9656, Validation Accuracy: 0.9503, Loss: 0.0208\n",
      "Epoch   6 Batch  350/538 - Train Accuracy: 0.9665, Validation Accuracy: 0.9515, Loss: 0.0232\n",
      "Epoch   6 Batch  400/538 - Train Accuracy: 0.9740, Validation Accuracy: 0.9659, Loss: 0.0182\n",
      "Epoch   6 Batch  450/538 - Train Accuracy: 0.9559, Validation Accuracy: 0.9703, Loss: 0.0286\n",
      "Epoch   6 Batch  500/538 - Train Accuracy: 0.9879, Validation Accuracy: 0.9592, Loss: 0.0111\n",
      "Epoch   7 Batch   50/538 - Train Accuracy: 0.9658, Validation Accuracy: 0.9522, Loss: 0.0189\n",
      "Epoch   7 Batch  100/538 - Train Accuracy: 0.9906, Validation Accuracy: 0.9719, Loss: 0.0126\n",
      "Epoch   7 Batch  150/538 - Train Accuracy: 0.9770, Validation Accuracy: 0.9588, Loss: 0.0180\n",
      "Epoch   7 Batch  200/538 - Train Accuracy: 0.9750, Validation Accuracy: 0.9457, Loss: 0.0127\n",
      "Epoch   7 Batch  250/538 - Train Accuracy: 0.9799, Validation Accuracy: 0.9529, Loss: 0.0160\n",
      "Epoch   7 Batch  300/538 - Train Accuracy: 0.9794, Validation Accuracy: 0.9593, Loss: 0.0140\n",
      "Epoch   7 Batch  350/538 - Train Accuracy: 0.9693, Validation Accuracy: 0.9650, Loss: 0.0174\n",
      "Epoch   7 Batch  400/538 - Train Accuracy: 0.9860, Validation Accuracy: 0.9638, Loss: 0.0153\n",
      "Epoch   7 Batch  450/538 - Train Accuracy: 0.9539, Validation Accuracy: 0.9670, Loss: 0.0239\n",
      "Epoch   7 Batch  500/538 - Train Accuracy: 0.9801, Validation Accuracy: 0.9638, Loss: 0.0115\n",
      "Epoch   8 Batch   50/538 - Train Accuracy: 0.9713, Validation Accuracy: 0.9656, Loss: 0.0168\n",
      "Epoch   8 Batch  100/538 - Train Accuracy: 0.9957, Validation Accuracy: 0.9648, Loss: 0.0110\n",
      "Epoch   8 Batch  150/538 - Train Accuracy: 0.9756, Validation Accuracy: 0.9727, Loss: 0.0134\n",
      "Epoch   8 Batch  200/538 - Train Accuracy: 0.9789, Validation Accuracy: 0.9585, Loss: 0.0122\n",
      "Epoch   8 Batch  250/538 - Train Accuracy: 0.9881, Validation Accuracy: 0.9533, Loss: 0.0140\n",
      "Epoch   8 Batch  300/538 - Train Accuracy: 0.9821, Validation Accuracy: 0.9624, Loss: 0.0128\n",
      "Epoch   8 Batch  350/538 - Train Accuracy: 0.9805, Validation Accuracy: 0.9695, Loss: 0.0153\n",
      "Epoch   8 Batch  400/538 - Train Accuracy: 0.9898, Validation Accuracy: 0.9654, Loss: 0.0130\n",
      "Epoch   8 Batch  450/538 - Train Accuracy: 0.9481, Validation Accuracy: 0.9661, Loss: 0.0219\n"
     ]
    },
    {
     "name": "stdout",
     "output_type": "stream",
     "text": [
      "Epoch   8 Batch  500/538 - Train Accuracy: 0.9920, Validation Accuracy: 0.9732, Loss: 0.0085\n",
      "Epoch   9 Batch   50/538 - Train Accuracy: 0.9576, Validation Accuracy: 0.9533, Loss: 0.0293\n",
      "Epoch   9 Batch  100/538 - Train Accuracy: 0.9812, Validation Accuracy: 0.9650, Loss: 0.0207\n",
      "Epoch   9 Batch  150/538 - Train Accuracy: 0.9824, Validation Accuracy: 0.9632, Loss: 0.0134\n",
      "Epoch   9 Batch  200/538 - Train Accuracy: 0.9893, Validation Accuracy: 0.9554, Loss: 0.0090\n",
      "Epoch   9 Batch  250/538 - Train Accuracy: 0.9926, Validation Accuracy: 0.9545, Loss: 0.0104\n",
      "Epoch   9 Batch  300/538 - Train Accuracy: 0.9881, Validation Accuracy: 0.9670, Loss: 0.0103\n",
      "Epoch   9 Batch  350/538 - Train Accuracy: 0.9779, Validation Accuracy: 0.9592, Loss: 0.0127\n",
      "Epoch   9 Batch  400/538 - Train Accuracy: 0.9888, Validation Accuracy: 0.9664, Loss: 0.0106\n",
      "Epoch   9 Batch  450/538 - Train Accuracy: 0.9637, Validation Accuracy: 0.9675, Loss: 0.0177\n",
      "Epoch   9 Batch  500/538 - Train Accuracy: 0.9902, Validation Accuracy: 0.9775, Loss: 0.0064\n",
      "Epoch  10 Batch   50/538 - Train Accuracy: 0.9764, Validation Accuracy: 0.9686, Loss: 0.0114\n",
      "Epoch  10 Batch  100/538 - Train Accuracy: 0.9852, Validation Accuracy: 0.9695, Loss: 0.0109\n",
      "Epoch  10 Batch  150/538 - Train Accuracy: 0.9857, Validation Accuracy: 0.9627, Loss: 0.0093\n",
      "Epoch  10 Batch  200/538 - Train Accuracy: 0.9832, Validation Accuracy: 0.9625, Loss: 0.0069\n",
      "Epoch  10 Batch  250/538 - Train Accuracy: 0.9936, Validation Accuracy: 0.9707, Loss: 0.0099\n",
      "Epoch  10 Batch  300/538 - Train Accuracy: 0.9864, Validation Accuracy: 0.9698, Loss: 0.0092\n",
      "Epoch  10 Batch  350/538 - Train Accuracy: 0.9840, Validation Accuracy: 0.9585, Loss: 0.0098\n",
      "Epoch  10 Batch  400/538 - Train Accuracy: 0.9849, Validation Accuracy: 0.9721, Loss: 0.0094\n",
      "Epoch  10 Batch  450/538 - Train Accuracy: 0.9771, Validation Accuracy: 0.9622, Loss: 0.0151\n",
      "Epoch  10 Batch  500/538 - Train Accuracy: 0.9909, Validation Accuracy: 0.9721, Loss: 0.0064\n",
      "Epoch  11 Batch   50/538 - Train Accuracy: 0.9857, Validation Accuracy: 0.9664, Loss: 0.0092\n",
      "Epoch  11 Batch  100/538 - Train Accuracy: 0.9895, Validation Accuracy: 0.9775, Loss: 0.0096\n",
      "Epoch  11 Batch  150/538 - Train Accuracy: 0.9861, Validation Accuracy: 0.9686, Loss: 0.0087\n",
      "Epoch  11 Batch  200/538 - Train Accuracy: 0.9891, Validation Accuracy: 0.9698, Loss: 0.0080\n",
      "Epoch  11 Batch  250/538 - Train Accuracy: 0.9939, Validation Accuracy: 0.9664, Loss: 0.0130\n",
      "Epoch  11 Batch  300/538 - Train Accuracy: 0.9866, Validation Accuracy: 0.9730, Loss: 0.0094\n",
      "Epoch  11 Batch  350/538 - Train Accuracy: 0.9881, Validation Accuracy: 0.9661, Loss: 0.0092\n",
      "Epoch  11 Batch  400/538 - Train Accuracy: 0.9948, Validation Accuracy: 0.9748, Loss: 0.0073\n",
      "Epoch  11 Batch  450/538 - Train Accuracy: 0.9706, Validation Accuracy: 0.9684, Loss: 0.0166\n",
      "Epoch  11 Batch  500/538 - Train Accuracy: 0.9904, Validation Accuracy: 0.9691, Loss: 0.0072\n",
      "Epoch  12 Batch   50/538 - Train Accuracy: 0.9871, Validation Accuracy: 0.9563, Loss: 0.0088\n",
      "Epoch  12 Batch  100/538 - Train Accuracy: 0.9910, Validation Accuracy: 0.9657, Loss: 0.0093\n",
      "Epoch  12 Batch  150/538 - Train Accuracy: 0.9893, Validation Accuracy: 0.9656, Loss: 0.0075\n",
      "Epoch  12 Batch  200/538 - Train Accuracy: 0.9914, Validation Accuracy: 0.9638, Loss: 0.0073\n",
      "Epoch  12 Batch  250/538 - Train Accuracy: 0.9928, Validation Accuracy: 0.9650, Loss: 0.0071\n",
      "Epoch  12 Batch  300/538 - Train Accuracy: 0.9877, Validation Accuracy: 0.9714, Loss: 0.0080\n",
      "Epoch  12 Batch  350/538 - Train Accuracy: 0.9924, Validation Accuracy: 0.9684, Loss: 0.0072\n",
      "Epoch  12 Batch  400/538 - Train Accuracy: 0.9875, Validation Accuracy: 0.9769, Loss: 0.0082\n",
      "Epoch  12 Batch  450/538 - Train Accuracy: 0.9762, Validation Accuracy: 0.9741, Loss: 0.0123\n",
      "Epoch  12 Batch  500/538 - Train Accuracy: 0.9877, Validation Accuracy: 0.9707, Loss: 0.0073\n",
      "Epoch  13 Batch   50/538 - Train Accuracy: 0.9883, Validation Accuracy: 0.9700, Loss: 0.0110\n",
      "Epoch  13 Batch  100/538 - Train Accuracy: 0.9910, Validation Accuracy: 0.9728, Loss: 0.0072\n",
      "Epoch  13 Batch  150/538 - Train Accuracy: 0.9883, Validation Accuracy: 0.9641, Loss: 0.0078\n",
      "Epoch  13 Batch  200/538 - Train Accuracy: 0.9934, Validation Accuracy: 0.9693, Loss: 0.0064\n",
      "Epoch  13 Batch  250/538 - Train Accuracy: 0.9910, Validation Accuracy: 0.9672, Loss: 0.0074\n",
      "Epoch  13 Batch  300/538 - Train Accuracy: 0.9916, Validation Accuracy: 0.9824, Loss: 0.0076\n",
      "Epoch  13 Batch  350/538 - Train Accuracy: 0.9935, Validation Accuracy: 0.9600, Loss: 0.0076\n",
      "Epoch  13 Batch  400/538 - Train Accuracy: 0.9818, Validation Accuracy: 0.9792, Loss: 0.0090\n",
      "Epoch  13 Batch  450/538 - Train Accuracy: 0.9875, Validation Accuracy: 0.9714, Loss: 0.0124\n",
      "Epoch  13 Batch  500/538 - Train Accuracy: 0.9906, Validation Accuracy: 0.9744, Loss: 0.0060\n",
      "Epoch  14 Batch   50/538 - Train Accuracy: 0.9941, Validation Accuracy: 0.9714, Loss: 0.0064\n",
      "Epoch  14 Batch  100/538 - Train Accuracy: 0.9934, Validation Accuracy: 0.9746, Loss: 0.0090\n",
      "Epoch  14 Batch  150/538 - Train Accuracy: 0.9916, Validation Accuracy: 0.9806, Loss: 0.0068\n",
      "Epoch  14 Batch  200/538 - Train Accuracy: 0.9916, Validation Accuracy: 0.9679, Loss: 0.0061\n",
      "Epoch  14 Batch  250/538 - Train Accuracy: 0.9939, Validation Accuracy: 0.9641, Loss: 0.0061\n",
      "Epoch  14 Batch  300/538 - Train Accuracy: 0.9929, Validation Accuracy: 0.9702, Loss: 0.0072\n",
      "Epoch  14 Batch  350/538 - Train Accuracy: 0.9950, Validation Accuracy: 0.9663, Loss: 0.0066\n",
      "Epoch  14 Batch  400/538 - Train Accuracy: 0.9896, Validation Accuracy: 0.9771, Loss: 0.0077\n",
      "Epoch  14 Batch  450/538 - Train Accuracy: 0.9810, Validation Accuracy: 0.9638, Loss: 0.0091\n",
      "Epoch  14 Batch  500/538 - Train Accuracy: 0.9879, Validation Accuracy: 0.9663, Loss: 0.0078\n",
      "Model Trained and Saved\n"
     ]
    }
   ],
   "source": [
    "\"\"\"\n",
    "DON'T MODIFY ANYTHING IN THIS CELL\n",
    "\"\"\"\n",
    "def get_accuracy(target, logits):\n",
    "    \"\"\"\n",
    "    Calculate accuracy\n",
    "    \"\"\"\n",
    "    max_seq = max(target.shape[1], logits.shape[1])\n",
    "    if max_seq - target.shape[1]:\n",
    "        target = np.pad(\n",
    "            target,\n",
    "            [(0,0),(0,max_seq - target.shape[1])],\n",
    "            'constant')\n",
    "    if max_seq - logits.shape[1]:\n",
    "        logits = np.pad(\n",
    "            logits,\n",
    "            [(0,0),(0,max_seq - logits.shape[1])],\n",
    "            'constant')\n",
    "\n",
    "    return np.mean(np.equal(target, logits))\n",
    "\n",
    "# Split data to training and validation sets\n",
    "train_source = source_int_text[batch_size:]\n",
    "train_target = target_int_text[batch_size:]\n",
    "valid_source = source_int_text[:batch_size]\n",
    "valid_target = target_int_text[:batch_size]\n",
    "(valid_sources_batch, valid_targets_batch, valid_sources_lengths, valid_targets_lengths ) = next(get_batches(valid_source,\n",
    "                                                                                                             valid_target,\n",
    "                                                                                                             batch_size,\n",
    "                                                                                                             source_vocab_to_int['<PAD>'],\n",
    "                                                                                                             target_vocab_to_int['<PAD>']))                                                                                                  \n",
    "with tf.Session(graph=train_graph) as sess:\n",
    "    sess.run(tf.global_variables_initializer())\n",
    "\n",
    "    for epoch_i in range(epochs):\n",
    "        for batch_i, (source_batch, target_batch, sources_lengths, targets_lengths) in enumerate(\n",
    "                get_batches(train_source, train_target, batch_size,\n",
    "                            source_vocab_to_int['<PAD>'],\n",
    "                            target_vocab_to_int['<PAD>'])):\n",
    "\n",
    "            _, loss = sess.run(\n",
    "                [train_op, cost],\n",
    "                {input_data: source_batch,\n",
    "                 targets: target_batch,\n",
    "                 lr: learning_rate,\n",
    "                 target_sequence_length: targets_lengths,\n",
    "                 source_sequence_length: sources_lengths,\n",
    "                 keep_prob: keep_probability})\n",
    "\n",
    "\n",
    "            if batch_i % display_step == 0 and batch_i > 0:\n",
    "\n",
    "\n",
    "                batch_train_logits = sess.run(\n",
    "                    inference_logits,\n",
    "                    {input_data: source_batch,\n",
    "                     source_sequence_length: sources_lengths,\n",
    "                     target_sequence_length: targets_lengths,\n",
    "                     keep_prob: 1.0})\n",
    "\n",
    "\n",
    "                batch_valid_logits = sess.run(\n",
    "                    inference_logits,\n",
    "                    {input_data: valid_sources_batch,\n",
    "                     source_sequence_length: valid_sources_lengths,\n",
    "                     target_sequence_length: valid_targets_lengths,\n",
    "                     keep_prob: 1.0})\n",
    "\n",
    "                train_acc = get_accuracy(target_batch, batch_train_logits)\n",
    "\n",
    "                valid_acc = get_accuracy(valid_targets_batch, batch_valid_logits)\n",
    "\n",
    "                print('Epoch {:>3} Batch {:>4}/{} - Train Accuracy: {:>6.4f}, Validation Accuracy: {:>6.4f}, Loss: {:>6.4f}'\n",
    "                      .format(epoch_i, batch_i, len(source_int_text) // batch_size, train_acc, valid_acc, loss))\n",
    "\n",
    "    # Save Model\n",
    "    saver = tf.train.Saver()\n",
    "    saver.save(sess, save_path)\n",
    "    print('Model Trained and Saved')"
   ]
  },
  {
   "cell_type": "markdown",
   "metadata": {},
   "source": [
    "### Save Parameters\n",
    "Save the `batch_size` and `save_path` parameters for inference."
   ]
  },
  {
   "cell_type": "code",
   "execution_count": 20,
   "metadata": {
    "collapsed": true
   },
   "outputs": [],
   "source": [
    "\"\"\"\n",
    "DON'T MODIFY ANYTHING IN THIS CELL\n",
    "\"\"\"\n",
    "# Save parameters for checkpoint\n",
    "helper.save_params(save_path)"
   ]
  },
  {
   "cell_type": "markdown",
   "metadata": {},
   "source": [
    "# Checkpoint"
   ]
  },
  {
   "cell_type": "code",
   "execution_count": 21,
   "metadata": {
    "collapsed": true
   },
   "outputs": [],
   "source": [
    "\"\"\"\n",
    "DON'T MODIFY ANYTHING IN THIS CELL\n",
    "\"\"\"\n",
    "import tensorflow as tf\n",
    "import numpy as np\n",
    "import helper\n",
    "import problem_unittests as tests\n",
    "\n",
    "_, (source_vocab_to_int, target_vocab_to_int), (source_int_to_vocab, target_int_to_vocab) = helper.load_preprocess()\n",
    "load_path = helper.load_params()"
   ]
  },
  {
   "cell_type": "markdown",
   "metadata": {},
   "source": [
    "## Sentence to Sequence\n",
    "To feed a sentence into the model for translation, you first need to preprocess it.  Implement the function `sentence_to_seq()` to preprocess new sentences.\n",
    "\n",
    "- Convert the sentence to lowercase\n",
    "- Convert words into ids using `vocab_to_int`\n",
    " - Convert words not in the vocabulary, to the `<UNK>` word id."
   ]
  },
  {
   "cell_type": "code",
   "execution_count": 23,
   "metadata": {},
   "outputs": [
    {
     "name": "stdout",
     "output_type": "stream",
     "text": [
      "Tests Passed\n"
     ]
    }
   ],
   "source": [
    "def sentence_to_seq(sentence, vocab_to_int):\n",
    "    \"\"\"\n",
    "    Convert a sentence to a sequence of ids\n",
    "    :param sentence: String\n",
    "    :param vocab_to_int: Dictionary to go from the words to an id\n",
    "    :return: List of word ids\n",
    "    \"\"\"\n",
    "    # TODO: Implement Function\n",
    "    list_word_ids = [vocab_to_int.get(word, vocab_to_int['<UNK>']) for word in sentence.lower().split()]\n",
    "    return list_word_ids\n",
    "\n",
    "\n",
    "\"\"\"\n",
    "DON'T MODIFY ANYTHING IN THIS CELL THAT IS BELOW THIS LINE\n",
    "\"\"\"\n",
    "tests.test_sentence_to_seq(sentence_to_seq)"
   ]
  },
  {
   "cell_type": "markdown",
   "metadata": {},
   "source": [
    "## Translate\n",
    "This will translate `translate_sentence` from English to French."
   ]
  },
  {
   "cell_type": "code",
   "execution_count": 24,
   "metadata": {},
   "outputs": [
    {
     "name": "stdout",
     "output_type": "stream",
     "text": [
      "INFO:tensorflow:Restoring parameters from checkpoints/dev\n",
      "Input\n",
      "  Word Ids:      [21, 79, 42, 57, 134, 194, 90]\n",
      "  English Words: ['he', 'saw', 'a', 'old', 'yellow', 'truck', '.']\n",
      "\n",
      "Prediction\n",
      "  Word Ids:      [179, 110, 217, 109, 30, 284, 82, 4, 211, 1]\n",
      "  French Words: il a vu au vieux de mois hiver . <EOS>\n"
     ]
    }
   ],
   "source": [
    "translate_sentence = 'he saw a old yellow truck .'\n",
    "\n",
    "\n",
    "\"\"\"\n",
    "DON'T MODIFY ANYTHING IN THIS CELL\n",
    "\"\"\"\n",
    "translate_sentence = sentence_to_seq(translate_sentence, source_vocab_to_int)\n",
    "\n",
    "loaded_graph = tf.Graph()\n",
    "with tf.Session(graph=loaded_graph) as sess:\n",
    "    # Load saved model\n",
    "    loader = tf.train.import_meta_graph(load_path + '.meta')\n",
    "    loader.restore(sess, load_path)\n",
    "\n",
    "    input_data = loaded_graph.get_tensor_by_name('input:0')\n",
    "    logits = loaded_graph.get_tensor_by_name('predictions:0')\n",
    "    target_sequence_length = loaded_graph.get_tensor_by_name('target_sequence_length:0')\n",
    "    source_sequence_length = loaded_graph.get_tensor_by_name('source_sequence_length:0')\n",
    "    keep_prob = loaded_graph.get_tensor_by_name('keep_prob:0')\n",
    "\n",
    "    translate_logits = sess.run(logits, {input_data: [translate_sentence]*batch_size,\n",
    "                                         target_sequence_length: [len(translate_sentence)*2]*batch_size,\n",
    "                                         source_sequence_length: [len(translate_sentence)]*batch_size,\n",
    "                                         keep_prob: 1.0})[0]\n",
    "\n",
    "print('Input')\n",
    "print('  Word Ids:      {}'.format([i for i in translate_sentence]))\n",
    "print('  English Words: {}'.format([source_int_to_vocab[i] for i in translate_sentence]))\n",
    "\n",
    "print('\\nPrediction')\n",
    "print('  Word Ids:      {}'.format([i for i in translate_logits]))\n",
    "print('  French Words: {}'.format(\" \".join([target_int_to_vocab[i] for i in translate_logits])))\n"
   ]
  },
  {
   "cell_type": "markdown",
   "metadata": {},
   "source": [
    "## Imperfect Translation\n",
    "You might notice that some sentences translate better than others.  Since the dataset you're using only has a vocabulary of 227 English words of the thousands that you use, you're only going to see good results using these words.  For this project, you don't need a perfect translation. However, if you want to create a better translation model, you'll need better data.\n",
    "\n",
    "You can train on the [WMT10 French-English corpus](http://www.statmt.org/wmt10/training-giga-fren.tar).  This dataset has more vocabulary and richer in topics discussed.  However, this will take you days to train, so make sure you've a GPU and the neural network is performing well on dataset we provided.  Just make sure you play with the WMT10 corpus after you've submitted this project.\n",
    "## Submitting This Project\n",
    "When submitting this project, make sure to run all the cells before saving the notebook. Save the notebook file as \"dlnd_language_translation.ipynb\" and save it as a HTML file under \"File\" -> \"Download as\". Include the \"helper.py\" and \"problem_unittests.py\" files in your submission."
   ]
  }
 ],
 "metadata": {
  "anaconda-cloud": {},
  "kernelspec": {
   "display_name": "Python 3",
   "language": "python",
   "name": "python3"
  },
  "language_info": {
   "codemirror_mode": {
    "name": "ipython",
    "version": 3
   },
   "file_extension": ".py",
   "mimetype": "text/x-python",
   "name": "python",
   "nbconvert_exporter": "python",
   "pygments_lexer": "ipython3",
   "version": "3.6.2"
  }
 },
 "nbformat": 4,
 "nbformat_minor": 1
}
